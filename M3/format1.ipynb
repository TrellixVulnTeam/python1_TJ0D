{
 "cells": [
  {
   "cell_type": "code",
   "execution_count": 10,
   "metadata": {
    "collapsed": false
   },
   "outputs": [
    {
     "name": "stdout",
     "output_type": "stream",
     "text": [
      "/123/\n/  123/\n/123/\n/123  /\n/00123/\n/ +123/\n"
     ]
    }
   ],
   "source": [
    "a = 123\n",
    "b = 12345.678\n",
    "c = \"Python\"\n",
    "\n",
    "print('/' + '%d' % a + '/')     # d = decimal\n",
    "print('/' + '%5d' % a + '/')    # 5表示總共要印五個字元，不夠的話左邊會有空格\n",
    "print('/' + '%2d' % a + '/')    # 指定的數字若小於數字長度，仍會完整顯示數字\n",
    "print('/' + '%-5d' % a + '/')    # 改為向左靠齊(空格變到右邊)\n",
    "print('/' + '%05d' % a + '/')   # 空格改補0\n",
    "print('/' + '%+5d' % a + '/')    # +就是加個正符號"
   ]
  },
  {
   "cell_type": "code",
   "execution_count": 2,
   "metadata": {},
   "outputs": [
    {
     "name": "stdout",
     "output_type": "stream",
     "text": [
      "0x165\n0o545\n0x1ab\n0X1AB\n"
     ]
    }
   ],
   "source": [
    "a = 357\n",
    "print('%#x' % a)    # 加#x表示以16進位呈現\n",
    "print('%#o' % a)    # 加#o表示以8進位呈現\n",
    "\n",
    "a = 427\n",
    "print('%#x' % a)    # 加#x表示以16進位呈現\n",
    "print('%#X' % a)    # x大小寫都可，印出的英文字也會更著大小寫"
   ]
  },
  {
   "cell_type": "code",
   "execution_count": 12,
   "metadata": {},
   "outputs": [
    {
     "name": "stdout",
     "output_type": "stream",
     "text": [
      "12345.678000\n12345.68\n/  12345.68/\n/12345.68  /\n1.234568e+04\n1.234568E+04\n"
     ]
    }
   ],
   "source": [
    "# 浮點數\n",
    "print('%f' % b)         # 預設小數點後面有6位\n",
    "print('%.2f' % b)       # 四捨五入在小數點後2位\n",
    "print('/' + '%10.2f' % b + '/')    # 原本共8位數，為了補到10位在左邊加空白\n",
    "print('/' + '%-10.2f' % b + '/')    # 原本共8位數，為了補到10位在右邊加空白\n",
    "print('%e' % b)         # 也可以用科學符號表示\n",
    "print('%E' % b)         # 也是預設四捨五入到小數點後第6位"
   ]
  },
  {
   "cell_type": "code",
   "execution_count": null,
   "metadata": {},
   "outputs": [],
   "source": [
    "# 字串\n",
    "print('%s' % c)\n",
    "print('/' + '%10s' % c + '/')\n",
    "print('/' + '%-10s' % c + '/')\n",
    "print('%s%%' % c)       # 如果要印出%就加兩個%\n"
   ]
  }
 ],
 "metadata": {
  "kernelspec": {
   "display_name": "Python 2",
   "language": "python",
   "name": "python2"
  },
  "language_info": {
   "codemirror_mode": {
    "name": "ipython",
    "version": 2
   },
   "file_extension": ".py",
   "mimetype": "text/x-python",
   "name": "python",
   "nbconvert_exporter": "python",
   "pygments_lexer": "ipython2",
   "version": "2.7.6"
  }
 },
 "nbformat": 4,
 "nbformat_minor": 0
}

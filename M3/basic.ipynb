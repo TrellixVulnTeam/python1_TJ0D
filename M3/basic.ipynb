{
 "cells": [
  {
   "cell_type": "code",
   "execution_count": null,
   "metadata": {
    "collapsed": true
   },
   "outputs": [
    {
     "name": "stdout",
     "output_type": "stream",
     "text": [
      "2.25\n2\n81\n1\n-3\n3\n"
     ]
    }
   ],
   "source": [
    "print(9/4)      # 除法\n",
    "print(9//4)     # 整除\n",
    "print(3**4)     # 次方\n",
    "print(9%4)      # 餘數\n",
    "print(-9//4)    # 負數的除法跟其他語言不同，是向負無窮取值\n",
    "print(-9%4)"
   ]
  },
  {
   "cell_type": "code",
   "execution_count": 2,
   "metadata": {},
   "outputs": [
    {
     "name": "stdout",
     "output_type": "stream",
     "text": [
      "5\n5\n"
     ]
    }
   ],
   "source": [
    "print(2+3)\n",
    "print(int(\"2\")+3)"
   ]
  },
  {
   "cell_type": "code",
   "execution_count": 3,
   "metadata": {},
   "outputs": [
    {
     "name": "stdout",
     "output_type": "stream",
     "text": [
      "a =  40\na>>2 =  10\na<<2 =  160\na>>3 =  5\n"
     ]
    }
   ],
   "source": [
    "a = 40\n",
    "print(\"a = \", a)\n",
    "print(\"a>>2 = \", a>>2)  # 右移 = 除以2的n次方\n",
    "print(\"a<<2 = \", a<<2)  # 左移 = 乘以2的n次方\n",
    "print(\"a>>3 = \", a>>3)  # 除以2的3次方"
   ]
  },
  {
   "cell_type": "code",
   "execution_count": 4,
   "metadata": {},
   "outputs": [
    {
     "name": "stdout",
     "output_type": "stream",
     "text": [
      "x is y :  True\n"
     ]
    }
   ],
   "source": [
    "x = 10\n",
    "y = 10\n",
    "print(\"x is y : \", x is y)   # is比較兩個變數是否是同一個物件"
   ]
  },
  {
   "cell_type": "code",
   "execution_count": 5,
   "metadata": {},
   "outputs": [
    {
     "name": "stdout",
     "output_type": "stream",
     "text": [
      "y in x :  True\n"
     ]
    }
   ],
   "source": [
    "x = (10, 20, 30)\n",
    "y = 10\n",
    "print(\"y in x : \", y in x)  # in判斷一個物件是否屬於另一個物件(跟RDB雷同)"
   ]
  },
  {
   "cell_type": "code",
   "execution_count": null,
   "metadata": {},
   "outputs": [],
   "source": []
  }
 ],
 "metadata": {
  "kernelspec": {
   "display_name": "Python 2",
   "language": "python",
   "name": "python2"
  },
  "language_info": {
   "codemirror_mode": {
    "name": "ipython",
    "version": 2
   },
   "file_extension": ".py",
   "mimetype": "text/x-python",
   "name": "python",
   "nbconvert_exporter": "python",
   "pygments_lexer": "ipython2",
   "version": "2.7.6"
  }
 },
 "nbformat": 4,
 "nbformat_minor": 0
}

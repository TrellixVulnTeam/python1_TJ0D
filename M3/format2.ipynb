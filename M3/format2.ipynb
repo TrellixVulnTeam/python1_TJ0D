{
 "cells": [
  {
   "cell_type": "code",
   "execution_count": 5,
   "metadata": {
    "collapsed": false
   },
   "outputs": [
    {
     "name": "stdout",
     "output_type": "stream",
     "text": [
      "/  123/\n00123\n +123\n/123  /\n0x7b\n0o173\n0b1111011\n"
     ]
    }
   ],
   "source": [
    "a = 123\n",
    "b = 12345.678\n",
    "c = \"Python\"\n",
    "\n",
    "print('/' + format(a, '5d') + '/')      # 5表示總共要印五個字元，不夠的話左邊會有空格\n",
    "print(format(a, '05d'))     # 空格改補0\n",
    "print(format(a, '+5d'))     # 顯示正負號\n",
    "print('/' + format(a, '<5d') + '/')     # 要用<才是向左靠，不是-\n",
    "print(format(a, '#x'))      # 以16進位呈現，x可以大寫\n",
    "print(format(a, '#o'))      # 以8進位呈現但o不能大寫\n",
    "print(format(a, '#b'))      # 以2進位呈現(另一個格式化沒法做到)\n",
    "# print(format(a, '#B'))      # 但b不能用大寫\n"
   ]
  },
  {
   "cell_type": "code",
   "execution_count": 2,
   "metadata": {},
   "outputs": [
    {
     "name": "stdout",
     "output_type": "stream",
     "text": [
      "12345.678000\n12345.68\n12345.678000\n/  12345.68/\n/12345.68  /\n/  1.23E+04/\n"
     ]
    }
   ],
   "source": [
    "print(format(b, 'f'))\n",
    "print(format(b, '.2f'))\n",
    "print(format(b, '10f'))\n",
    "print('/' + format(b, '10.2f') + '/')\n",
    "print('/' + format(b, '<10.2f') + '/')\n",
    "print('/' + format(b, '10.2E') + '/')"
   ]
  },
  {
   "cell_type": "code",
   "execution_count": 3,
   "metadata": {},
   "outputs": [
    {
     "name": "stdout",
     "output_type": "stream",
     "text": [
      "/Python    /\n/    Python/\n/  Python  /\n/****Python/\n/Python****/\n/**Python**/\n"
     ]
    }
   ],
   "source": [
    "print('/' + format(c, '10s') + '/')     # 字串format中預設是向左靠，所以空白在右邊\n",
    "print('/' + format(c, '>10s') + '/')    # >表示向右靠\n",
    "print('/' + format(c, '^10s') + '/')    # ^表示置中\n",
    "\n",
    "print('/' + format(c, '*>10s') + '/')   # 填滿字元\n",
    "print('/' + format(c, '*<10s') + '/')\n",
    "print('/' + format(c, '*^10s') + '/')"
   ]
  },
  {
   "cell_type": "code",
   "execution_count": 6,
   "metadata": {},
   "outputs": [
    {
     "name": "stdout",
     "output_type": "stream",
     "text": [
      "/ 12,345.68/\n"
     ]
    }
   ],
   "source": [
    "print('/' + format(b, '10,.2f') + '/')  # 千位符號\n"
   ]
  },
  {
   "cell_type": "code",
   "execution_count": null,
   "metadata": {},
   "outputs": [],
   "source": []
  }
 ],
 "metadata": {
  "kernelspec": {
   "display_name": "Python 2",
   "language": "python",
   "name": "python2"
  },
  "language_info": {
   "codemirror_mode": {
    "name": "ipython",
    "version": 2
   },
   "file_extension": ".py",
   "mimetype": "text/x-python",
   "name": "python",
   "nbconvert_exporter": "python",
   "pygments_lexer": "ipython2",
   "version": "2.7.6"
  }
 },
 "nbformat": 4,
 "nbformat_minor": 0
}
